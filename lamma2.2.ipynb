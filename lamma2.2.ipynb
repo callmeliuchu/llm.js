{
 "cells": [
  {
   "cell_type": "code",
   "execution_count": 1,
   "id": "c989b01f-066d-4dd6-a92e-a1840a4b65b5",
   "metadata": {},
   "outputs": [],
   "source": [
    "from dataclasses import dataclass\n",
    "from typing import Optional\n",
    "import math\n",
    "import torch\n",
    "import torch.nn as nn\n",
    "import torch.nn.functional as F"
   ]
  },
  {
   "cell_type": "code",
   "execution_count": 3,
   "id": "0014f098-55df-4f58-a148-4ffcd7f02945",
   "metadata": {},
   "outputs": [],
   "source": [
    "@dataclass\n",
    "class ModelArgs:\n",
    "    dim: int = 4096\n",
    "    n_layers: int = 32\n",
    "    n_heads: int = 32\n",
    "    n_kv_heads: Optional[int] = None\n",
    "    vocab_size: int = -1 # Later set in the build method\n",
    "    multiple_of: int = 256\n",
    "    ffn_dim_multiplier: Optional[float] = None\n",
    "    norm_eps: float = 1e-5\n",
    "\n",
    "    # Needed for KV cache\n",
    "    max_batch_size: int = 32\n",
    "    max_seq_len: int = 2048\n",
    "\n",
    "    device: str = None"
   ]
  },
  {
   "cell_type": "code",
   "execution_count": 5,
   "id": "b047ea17-df25-4a18-bfbb-2c0c523d0730",
   "metadata": {},
   "outputs": [],
   "source": [
    "class RMSNorm(nn.Module):\n",
    "\n",
    "    def __init__(self,dim: int, eps: float=1e-6):\n",
    "        super().__init__()\n",
    "        self.eps = eps\n",
    "        self.weights = nn.Parameter(torch.ones(dim))\n",
    "\n",
    "    def _norm(self,x):\n",
    "        root = (x ** 2).mean(dim=-1,keepdim=True) ** 0.5\n",
    "        return x / (root + self.eps)\n",
    "    def forward(self,x):\n",
    "        return self.weights * self._norm(x)"
   ]
  },
  {
   "cell_type": "code",
   "execution_count": 6,
   "id": "00d39135-0c79-4523-9c78-ce8cb116fedc",
   "metadata": {},
   "outputs": [],
   "source": [
    "norm = RMSNorm(4)"
   ]
  },
  {
   "cell_type": "code",
   "execution_count": 23,
   "id": "88b86993-8d08-41b6-ab11-ce503fa02c8b",
   "metadata": {},
   "outputs": [],
   "source": [
    "x =torch.rand(5,18)"
   ]
  },
  {
   "cell_type": "code",
   "execution_count": 12,
   "id": "c8a84774-addb-4673-b45d-89d1c3c7e12e",
   "metadata": {},
   "outputs": [
    {
     "data": {
      "text/plain": [
       "tensor([1.0000, 1.0000, 1.0000, 1.0000, 1.0000], grad_fn=<MeanBackward1>)"
      ]
     },
     "execution_count": 12,
     "metadata": {},
     "output_type": "execute_result"
    }
   ],
   "source": [
    "(norm(x) ** 2).mean(dim=-1)"
   ]
  },
  {
   "cell_type": "code",
   "execution_count": 13,
   "id": "f2a389e4-1b33-405f-ab57-eff6b65308d5",
   "metadata": {},
   "outputs": [],
   "source": [
    "def precompute_theta_pos_frequencies(head_dim:int, seq_len: int, device: str, theta: float = 10000.0):\n",
    "    assert head_dim % 2 == 0, \"Dimension must be divisible by 2\"\n",
    "    theta_numberator = torch.arange(0,head_dim,2).float()\n",
    "    theta = 1.0 / (theta ** (theta_numberator / head_dim)).to(device)\n",
    "    m = torch.arange(seq_len,device=device)\n",
    "    freqs = torch.outer(m,theta).float()\n",
    "    freqs_complex = torch.polar(torch.ones_like(freqs),freqs)\n",
    "    return freqs_complex"
   ]
  },
  {
   "cell_type": "code",
   "execution_count": 21,
   "id": "6def5395-15cf-4de5-9186-4026a9cc2364",
   "metadata": {},
   "outputs": [],
   "source": [
    "x = precompute_theta_pos_frequencies(16,10,'cpu')"
   ]
  },
  {
   "cell_type": "code",
   "execution_count": 25,
   "id": "0ab77355-c0e9-437f-b2a4-99c3bfed74c5",
   "metadata": {},
   "outputs": [
    {
     "data": {
      "text/plain": [
       "torch.Size([5, 9, 2])"
      ]
     },
     "execution_count": 25,
     "metadata": {},
     "output_type": "execute_result"
    }
   ],
   "source": [
    "x.float().reshape(*x.shape[:-1],-1,2).shape"
   ]
  },
  {
   "cell_type": "code",
   "execution_count": 26,
   "id": "ea17ac56-7e30-4846-9d53-ed3bec95c46f",
   "metadata": {},
   "outputs": [],
   "source": [
    "y = torch.view_as_complex(x.float().reshape(*x.shape[:-1],-1,2))"
   ]
  },
  {
   "cell_type": "code",
   "execution_count": 29,
   "id": "38c9e9c6-9f73-48ea-8c92-4276ec4bac6b",
   "metadata": {},
   "outputs": [
    {
     "data": {
      "text/plain": [
       "tensor([[0.9634+0.9510j, 0.2736+0.3525j, 0.5917+0.7835j, 0.7921+0.5045j,\n",
       "         0.2107+0.0653j, 0.3504+0.5839j, 0.6104+0.6343j, 0.4109+0.4540j,\n",
       "         0.0039+0.9517j],\n",
       "        [0.0099+0.4052j, 0.7689+0.1905j, 0.2378+0.1365j, 0.7101+0.7956j,\n",
       "         0.2141+0.5726j, 0.8201+0.8848j, 0.7426+0.0547j, 0.0101+0.5260j,\n",
       "         0.1623+0.8415j],\n",
       "        [0.9587+0.6623j, 0.5116+0.6582j, 0.9878+0.6390j, 0.9034+0.7015j,\n",
       "         0.5972+0.0058j, 0.8090+0.8477j, 0.8951+0.0786j, 0.2375+0.1210j,\n",
       "         0.0922+0.7294j],\n",
       "        [0.1064+0.1917j, 0.9676+0.0022j, 0.1191+0.4788j, 0.5936+0.5327j,\n",
       "         0.0418+0.2735j, 0.0733+0.2542j, 0.3116+0.7680j, 0.4421+0.3954j,\n",
       "         0.7363+0.2031j],\n",
       "        [0.0786+0.4917j, 0.1203+0.1728j, 0.9636+0.5069j, 0.3092+0.7395j,\n",
       "         0.8178+0.0180j, 0.9085+0.4730j, 0.9913+0.2056j, 0.7448+0.9696j,\n",
       "         0.6131+0.1815j]])"
      ]
     },
     "execution_count": 29,
     "metadata": {},
     "output_type": "execute_result"
    }
   ],
   "source": [
    "y"
   ]
  },
  {
   "cell_type": "code",
   "execution_count": 32,
   "id": "81fbafbe-3f47-4abb-b784-bf105c7480c3",
   "metadata": {},
   "outputs": [
    {
     "data": {
      "text/plain": [
       "torch.Size([5, 9, 2])"
      ]
     },
     "execution_count": 32,
     "metadata": {},
     "output_type": "execute_result"
    }
   ],
   "source": [
    "torch.view_as_real(y).shape"
   ]
  },
  {
   "cell_type": "code",
   "execution_count": 33,
   "id": "3fe59e23-0d1c-42c9-9472-29774f600f55",
   "metadata": {},
   "outputs": [],
   "source": [
    "def apply_rotary_embeddings(x: torch.Tensor, freqs_complex: torch.Tensor, device: str):\n",
    "    x_complex = torch.view_as_complex(x.float().reshape(*x.shape[:-1],-1,2))\n",
    "    freqs_complex = freqs_complex.unsqueeze(0).unsqueeze(2)\n",
    "    x_rotated = x_complex * freqs_complex \n",
    "    x_out = torch.view_as_real(x_rotated)\n",
    "    x_out = x_out.reshape(*xshape)\n",
    "    return x_out.type_as(x).to(device)"
   ]
  },
  {
   "cell_type": "code",
   "execution_count": 40,
   "id": "baaa247c-f090-4dd2-8167-dffe3e10fba7",
   "metadata": {},
   "outputs": [],
   "source": [
    "def repeat_kv(x: torch.Tensor,n_rep: int) -> torch.Tensor:\n",
    "    batch_size, seq_len , n_kv_heads, head_dim = x.shape\n",
    "    if n_rep == 1:\n",
    "        return x\n",
    "    return (\n",
    "        x[:,:,:,None,:].expand(batch_size,seq_len,n_kv_heads,n_rep,head_dim).reshape(batch_size,seq_len,n_kv_heads * n_rep,head_dim)\n",
    "    )"
   ]
  },
  {
   "cell_type": "code",
   "execution_count": 41,
   "id": "faa0aa27-9a21-446f-a875-c1031a27172c",
   "metadata": {},
   "outputs": [],
   "source": [
    "class SelfAttention(nn.Module):\n",
    "\n",
    "    def __init__(self,args:ModelArgs):\n",
    "        super().__init__()\n",
    "        self.n_kv_heads = args.n_heads if args.n_kv_heads is None else args.n_kv_heads\n",
    "        self.n_heads_q = args.n_heads\n",
    "        self.n_rep = self.n_heads_q // self.n_kv_heads\n",
    "        self.head_dim = args.dim // args.n_heads\n",
    "        self.wq = nn.Linear(args.dim,args.head_dim * self.n_heads,bias=False)\n",
    "        self.wk = nn.Linear(args.dim,args.n_kv_heads * self.head_dim,bias=False)\n",
    "        self.wv = nn.Linear(args.dim,self.n_kv_heads * self.head_dim,bias=False)\n",
    "        self.wo = nn.Linear(args.n_heads * self.head_dim,args.dim,bias=False)\n",
    "        self.cache_k = torch.zeros((args.max_batch_size, args.max_seq_len, self.n_kv_heads, self.head_dim))\n",
    "        self.cache_v = torch.zeros((args.max_batch_size, args.max_seq_len, self.n_kv_heads, self.head_dim))\n",
    "    def forward(self,x:torch.Tensor,start_pos:int,freqs_complex:torch.Tensor):\n",
    "        batch_size, seq_len, _ = x.shape\n",
    "        xq = self.wq(x)\n",
    "        xk = self.wk(x)\n",
    "        xv = self.wv(x)\n",
    "        xq = xq.view(batch_size,seq_len,self.n_heads_q,self.head_dim)\n",
    "        xk = xk.view(batch_size,seq_len,self.n_kv_heads,self.head_dim)\n",
    "        xv = xv.view(batch_size,seq_len,self.n_kv_heads,self.head_dim)\n",
    "        xq = apply_rotary_embeddings(xq,freqs_complex,device=x.device)\n",
    "        xk = apply_rotary_embeddings(xk,freqs_complex,device=x.device)\n",
    "        self.cache_k[:batch_size,start_pos:start_pos+seq_len] = xk\n",
    "        self.cache_v[:batch_size,start_pos:start_pos+seq_len] = xv\n",
    "        keys = self.cache_k[:batch_size,:start_pos+seq_len]\n",
    "        values = self.cache_v[:batch_size,:start_pos+seq_len]\n",
    "        keys = repeat_kv(keys,self.n_rep)\n",
    "        values = repeat_kv(values,self.n_rep)\n",
    "        xq = xq.transpose(1,2)\n",
    "        keys = keys.transpose(1,2)\n",
    "        values = values.transpose(1,2)\n",
    "        scores = torch.matmul(xq,keys.transpose(2,3)) / math.sqrt(self.head_dim)\n",
    "        scores = F.softmax(scores.float(),dim=-1).type_as(xq)\n",
    "        output = (output.transpose(1,2).contiguous().view(batch_size,seq_len,-1))\n",
    "        return self.wo(output)"
   ]
  },
  {
   "cell_type": "code",
   "execution_count": 43,
   "id": "b75a5d3c-5f04-40e0-8fc2-b4a79941ee34",
   "metadata": {},
   "outputs": [],
   "source": [
    "class Feedward(nn.Module):\n",
    "\n",
    "    def __init__(self,args:ModelArgs):\n",
    "        super().__init__()\n",
    "        hidden_dim = 4 * args.dim\n",
    "        hidden_dim = int(2 * hidden_dim / 3)\n",
    "        if args.ffn_dim_multiplier is not None:\n",
    "            hidden_dim = int(args.ffn_dim_multiplier * hidden_dim)\n",
    "        hidden_dim = args.multiple_of * ((hidden_dim + args.multiple_of - 1) // args.multiple_of)\n",
    "        self.w1 = nn.Linear(args.dim,hidden_dim,bias=False)\n",
    "        self.w2 = nn.Linear(hidden_dim,args.dim,bias=False)\n",
    "        self.w3 = nn.Linear(args.dim,hidden_dim,bias=False)\n",
    "    def forward(self,x:torch.Tensor):\n",
    "        swish = F.silu(self.w1(x))\n",
    "        x_V = self.w3(x)\n",
    "        x = swish * x_V\n",
    "        x = self.w2(x)\n",
    "        return x"
   ]
  },
  {
   "cell_type": "code",
   "execution_count": 44,
   "id": "d53e9f76-67fe-4a7c-9e7f-b42aa76742ab",
   "metadata": {},
   "outputs": [],
   "source": [
    "class EncoderBlock(nn.Module):\n",
    "\n",
    "    def __init__(self,args:ModelArgs):\n",
    "        super().__init__()\n",
    "        self.n_heads = args.n_heads\n",
    "        self.dim = args.dim\n",
    "        self.head_dim = args.dim // args.n_heads\n",
    "        self.attention = SelfAttention(args)\n",
    "        self.feed_forward = Feedward(args)\n",
    "        self.attention_norm = RMSNorm(args.dim,eps=args.norm_eps)\n",
    "        self.ffn_norm = RMSNorm(args.dim,eps=args.norm_eps)\n",
    "    def forward(self,x: torch.Tensor,start_pos:int, freqs_complex: torch.Tensor):\n",
    "        h = self.attention.forward(\n",
    "            self.attention_norm(x),start_pos,freqs_complex\n",
    "        )\n",
    "        out = h + self.feed_forward.forward(self.ffn_norm(h))\n",
    "        return out"
   ]
  },
  {
   "cell_type": "code",
   "execution_count": null,
   "id": "8b94ede4-1431-467d-b385-d0ac6a34be0f",
   "metadata": {},
   "outputs": [],
   "source": [
    "class Transformer(nn.Module):\n",
    "\n",
    "    def __init__(self,args:ModelArgs):\n",
    "        super().__init__()\n",
    "        assert args.vocab_size != -1, 'Vocab_szie must be set'\n",
    "        self.args = args\n",
    "        self.vocab_size = args.vocab_size\n",
    "        self.n_layers = args.n_layers\n",
    "        self.tok_embeddings = nn.Embedding(self.vocab_size,args.dim)\n",
    "        self.layers = nn.ModuleList()\n",
    "        for layer_id in range(args.n_layers):\n",
    "            self.layers.append(EncoderBlock(args))\n",
    "        self.norm = RMSNorm(args.dim,self.vocab_size)\n",
    "        self.output = nn.Linear(args.dim,self.vocab_size,bias=False)\n",
    "        self.freqs_complex = precompute_theta_pos_frequencies(self.args.dim // self.args.n_heads,self.args.max_seq_len * 2, device=self.args.device)\n",
    "    def forward(self,tokens: torch.Tensor,start_pos: int):\n",
    "        batch_size, seq_len = tokens.shape\n",
    "        assert seq_len == 1, \"only one token at a time\"\n",
    "        h = self.tok_embeddings(tokens)\n",
    "        freqs_complex = self.freqs_complex[start_pos:start_pos+seq_len]\n",
    "        for layer in self.la"
   ]
  }
 ],
 "metadata": {
  "kernelspec": {
   "display_name": "minitorch Environment",
   "language": "python",
   "name": "minitorch"
  },
  "language_info": {
   "codemirror_mode": {
    "name": "ipython",
    "version": 3
   },
   "file_extension": ".py",
   "mimetype": "text/x-python",
   "name": "python",
   "nbconvert_exporter": "python",
   "pygments_lexer": "ipython3",
   "version": "3.10.14"
  }
 },
 "nbformat": 4,
 "nbformat_minor": 5
}
